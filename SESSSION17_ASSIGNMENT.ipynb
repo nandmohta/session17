{
 "cells": [
  {
   "cell_type": "code",
   "execution_count": 2,
   "metadata": {},
   "outputs": [],
   "source": [
    "# Problem Statement 1:\n",
    "# Blood glucose levels for obese patients have a mean of 100 with a standard deviation of\n",
    "# 15. A researcher thinks that a diet high in raw cornstarch will have a positive effect on\n",
    "# blood glucose levels. A sample of 36 patients who have tried the raw cornstarch diet\n",
    "# have a mean glucose level of 108. Test the hypothesis that the raw cornstarch had an\n",
    "# effect or not."
   ]
  },
  {
   "cell_type": "code",
   "execution_count": 2,
   "metadata": {},
   "outputs": [],
   "source": [
    "import numpy as np\n",
    "from scipy import stats"
   ]
  },
  {
   "cell_type": "code",
   "execution_count": 3,
   "metadata": {},
   "outputs": [
    {
     "name": "stdout",
     "output_type": "stream",
     "text": [
      "Z value is : 3.2\n",
      "Setting significance level to {siglevel} as it is not specified\n",
      "Probability by looking at z- table and p-value associated with 3.20 is 0.9993\n",
      "Probability of having value less than 108 is 0.9993 and more than or equals to 108 is (1-0.9993)=0.0007.\n",
      "Reject Null Hypothesis. \n",
      "The raw corn starch had effect (mean is > 100)\n"
     ]
    }
   ],
   "source": [
    "# null hypothesis\n",
    "H0 = 'The raw corn starch had no effect (mean = 100)'\n",
    "#Alternative hypothesis\n",
    "H1 = 'The raw corn starch had effect (mean is > 100)'\n",
    "\n",
    "mean = 100  # Mean\n",
    "stddev = 15 # Std Deviation\n",
    "n = 36  #Samples\n",
    "samplemean = 108  # Sample Mean\n",
    "siglevel = 0.05 #5% Significance Level\n",
    "\n",
    "# Calculate the Z Score\n",
    "z = (samplemean-mean) / (stddev/np.sqrt(n))\n",
    "\n",
    "print(f\"Z value is : {z}\")\n",
    "print('Setting significance level to {siglevel} as it is not specified')\n",
    "print('Probability by looking at z- table and p-value associated with 3.20 is 0.9993')\n",
    "print('Probability of having value less than 108 is 0.9993 and more than or equals to 108 is (1-0.9993)=0.0007.')\n",
    "\n",
    "if(siglevel > (1-0.9993)):\n",
    "    print('Reject Null Hypothesis. ')\n",
    "    print(H1)\n",
    "else:\n",
    "    print('Not Rejecting Null Hypothesis')\n",
    "    print(H0)"
   ]
  },
  {
   "cell_type": "code",
   "execution_count": 4,
   "metadata": {},
   "outputs": [],
   "source": [
    "# Problem Statement 2:\n",
    "# In one state, 52% of the voters are Republicans, and 48% are Democrats. In a second\n",
    "# state, 47% of the voters are Republicans, and 53% are Democrats. Suppose a simple\n",
    "# random sample of 100 voters are surveyed from each state.\n",
    "# What is the probability that the survey will show a greater percentage of Republican\n",
    "# voters in the second state than in the first state?"
   ]
  },
  {
   "cell_type": "code",
   "execution_count": 77,
   "metadata": {},
   "outputs": [
    {
     "name": "stdout",
     "output_type": "stream",
     "text": [
      "Standard Deviation value is : 0.07061869440877536\n",
      "Z value is : -0.7080278164104213\n",
      "The probability of Survey will show a greater percentage of Republican votesr from second state\n",
      "i.e. z-score being -0.7082 or less from Z Table is   : 0.24\n"
     ]
    }
   ],
   "source": [
    "# Probailbity of Republicans in state 1\n",
    "p1 =  0.52\n",
    "# Probability of Republicans state 2\n",
    "p2 =  0.47\n",
    "# Sample size\n",
    "n1 = n2 = 100\n",
    "\n",
    "# Mean Difference between sample propotions is \n",
    "E = p1 -p2 \n",
    "\n",
    "# Standard Deviation of Sampling Distribution is\n",
    "\n",
    "stddev = np.sqrt(((p1*(1-p1))/n1) + ((p2*(1-p2))/n2))\n",
    "\n",
    "print(f\"Standard Deviation value is : {stddev}\")\n",
    "\n",
    "# To find the probability that p1 is less than p2.\n",
    "# This is equivalent to finding the probability that p1 - p2 is less than zero. \n",
    "# To find this probability, we need to transform the random variable (p1 - p2) into a z-score. \n",
    "# That transformation appears below.\n",
    "\n",
    "z = (0-E)/stddev \n",
    "print(f\"Z value is : {z}\")\n",
    "\n",
    "print(\"The probability of Survey will show a greater percentage of Republican votesr from second state\")\n",
    "print(\"i.e. z-score being -0.7082 or less from Z Table is   : 0.24\")"
   ]
  },
  {
   "cell_type": "code",
   "execution_count": 78,
   "metadata": {},
   "outputs": [],
   "source": [
    "# Problem Statement 3:\n",
    "# You take the SAT and score 1100. The mean score for the SAT is 1026 and the standard\n",
    "# deviation is 209. How well did you score on the test compared to the average test taker?"
   ]
  },
  {
   "cell_type": "code",
   "execution_count": 81,
   "metadata": {},
   "outputs": [
    {
     "name": "stdout",
     "output_type": "stream",
     "text": [
      "Z Score is 0.354067\n",
      "Number of people who scored below you as per Z Table P(z < .35) is : 63.68%\n",
      "As the value Z is positive and on the right side of mean, the score is better than average test taker \n"
     ]
    }
   ],
   "source": [
    "x = 1100\n",
    "mu = 1026\n",
    "std = 209\n",
    "\n",
    "z  = (x - mu)/std\n",
    "print(\"Z Score is {:2f}\".format(z))\n",
    "print('Number of people who scored below you as per Z Table P(z < .35) is : 63.68%')\n",
    "print('As the value Z is positive and on the right side of mean, the score is better than average test taker ')"
   ]
  },
  {
   "cell_type": "code",
   "execution_count": null,
   "metadata": {},
   "outputs": [],
   "source": []
  }
 ],
 "metadata": {
  "kernelspec": {
   "display_name": "Python 3",
   "language": "python",
   "name": "python3"
  },
  "language_info": {
   "codemirror_mode": {
    "name": "ipython",
    "version": 3
   },
   "file_extension": ".py",
   "mimetype": "text/x-python",
   "name": "python",
   "nbconvert_exporter": "python",
   "pygments_lexer": "ipython3",
   "version": "3.6.5"
  }
 },
 "nbformat": 4,
 "nbformat_minor": 2
}
